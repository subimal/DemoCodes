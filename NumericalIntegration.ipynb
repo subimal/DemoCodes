{
 "cells": [
  {
   "cell_type": "markdown",
   "metadata": {},
   "source": [
    "# Calculating integrals"
   ]
  },
  {
   "cell_type": "code",
   "execution_count": 1,
   "metadata": {},
   "outputs": [],
   "source": [
    "import numpy as np"
   ]
  },
  {
   "cell_type": "markdown",
   "metadata": {},
   "source": [
    "## Composite trapezoidal rule"
   ]
  },
  {
   "cell_type": "markdown",
   "metadata": {},
   "source": [
    "$\\int_a^b\\limits f(x) dx = \\dfrac{b-a}{N} \\left[ \\dfrac{f(x_0)+f(x_N)}{2} + \\sum_{j=1}^{N-1}\\limits f(x_j) \\right]$\n",
    "\n",
    "to be implemented"
   ]
  },
  {
   "cell_type": "markdown",
   "metadata": {},
   "source": [
    "## Romberg's method"
   ]
  },
  {
   "cell_type": "code",
   "execution_count": 2,
   "metadata": {},
   "outputs": [],
   "source": [
    "from copy import deepcopy\n",
    "class Romberg:\n",
    "    def __init__(self, f,a,b, tol=1e-20):\n",
    "        self.ans = {}\n",
    "        self.f = f\n",
    "        n,m = 1,1\n",
    "        last = self.R(n,m)\n",
    "        n,m = 2,2\n",
    "        this = self.R(n,m)\n",
    "        err = abs(this-last)\n",
    "        self.tol=tol\n",
    "        while err>=tol:\n",
    "            last = deepcopy(this)\n",
    "            m=m+1\n",
    "            if m>n:\n",
    "                n,m = n+1, 1\n",
    "            elif n==m:\n",
    "                this = self.R(n,n)\n",
    "                err = abs(self.ans[(n,n)]-self.ans[(n-1,n-1)])\n",
    "        self.value = this\n",
    "        self.err = err\n",
    "        \n",
    "    def h(self, n):\n",
    "        return (b-a)/(2**n)\n",
    "    \n",
    "    def R(self, n,m):\n",
    "        f = self.f\n",
    "        h = self.h\n",
    "        ans ={}\n",
    "        ans.update(self.ans)\n",
    "        \n",
    "        if (n,m)==(0,0) and ( (n,m) not in ans.keys() ):\n",
    "            ans[(n,m)] = h(1)*(f(a)+f(b))\n",
    "        if n!=0 and m==0 and ( (n,m) not in ans.keys() ):\n",
    "            ans[(n,m)] = 0.5*self.R(n-1,0) + h(n)*sum([f(a+(2*k-1)*h(n) ) for k in range(1, 2**(n-1)+1)] )\n",
    "        if n!=0 and m!=0 and ( (n,m) not in ans.keys() ):\n",
    "            ans[(n,m)] = ( (4**m)*self.R(n,m-1)-self.R(n-1,m-1) )/(4**m - 1)\n",
    "        self.ans.update(ans)\n",
    "            \n",
    "        return ans[(n,m)]\n",
    "    "
   ]
  },
  {
   "cell_type": "code",
   "execution_count": 3,
   "metadata": {},
   "outputs": [
    {
     "data": {
      "text/plain": [
       "(3.141592653589792, 0.0, 1e-20)"
      ]
     },
     "execution_count": 3,
     "metadata": {},
     "output_type": "execute_result"
    }
   ],
   "source": [
    "def f(x):\n",
    "    return 4/(1+x**2)\n",
    "\n",
    "a,b = 0, 1\n",
    "i1 = Romberg(f, a, b, tol = 1e-20)\n",
    "i1.value, i1.err, i1.tol\n",
    "#print(\"Compare\", i1.value , \" with \", np.pi, \". diff = \", i1.value-np.pi, \"/err = \", i1.err)"
   ]
  },
  {
   "cell_type": "code",
   "execution_count": 4,
   "metadata": {},
   "outputs": [
    {
     "name": "stdout",
     "output_type": "stream",
     "text": [
      "Value 0.0 /err =  0.0\n"
     ]
    }
   ],
   "source": [
    "def f(x):\n",
    "    return np.sin(x)*x*x\n",
    "\n",
    "a,b = -np.pi, np.pi\n",
    "i1 = Romberg(f, a, b, tol = 1e-10)\n",
    "i1.value, i1.err, i1.tol\n",
    "print(\"Value\", i1.value , \"/err = \", i1.err)"
   ]
  },
  {
   "cell_type": "code",
   "execution_count": 5,
   "metadata": {},
   "outputs": [
    {
     "data": {
      "text/plain": [
       "{(0, 0): 0.0, (1, 0): 0.0, (1, 1): 0.0, (2, 0): 0.0, (2, 1): 0.0, (2, 2): 0.0}"
      ]
     },
     "execution_count": 5,
     "metadata": {},
     "output_type": "execute_result"
    }
   ],
   "source": [
    "i1.ans"
   ]
  },
  {
   "cell_type": "code",
   "execution_count": null,
   "metadata": {},
   "outputs": [],
   "source": []
  }
 ],
 "metadata": {
  "kernelspec": {
   "display_name": "PyPy3",
   "language": "python",
   "name": "pypy3"
  },
  "language_info": {
   "codemirror_mode": {
    "name": "ipython",
    "version": 3
   },
   "file_extension": ".py",
   "mimetype": "text/x-python",
   "name": "python",
   "nbconvert_exporter": "python",
   "pygments_lexer": "ipython3",
   "version": "3.7.9"
  }
 },
 "nbformat": 4,
 "nbformat_minor": 4
}
